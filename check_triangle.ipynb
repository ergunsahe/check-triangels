{
 "cells": [
  {
   "cell_type": "code",
   "execution_count": 3,
   "metadata": {},
   "outputs": [
    {
     "name": "stdout",
     "output_type": "stream",
     "text": [
      "equilateral\n"
     ]
    }
   ],
   "source": [
    "class TriangleError(Exception):\n",
    "    pass\n",
    "\n",
    "\n",
    "class Triangle(object):\n",
    "    def __init__(self, side1, side2, side3):\n",
    "        if side1 <= 0 or side2 <= 0 or side3 <= 0:\n",
    "            raise TriangleError(\"illegal side\")\n",
    "\n",
    "        max_side = max(side1, side2, side3)\n",
    "        total_sum = sum([side1, side2, side3])\n",
    "        sum_of_min_size = total_sum - max_side\n",
    "\n",
    "        if max_side >= sum_of_min_size:\n",
    "            raise TriangleError(\"Triangles Violating Triangle Inequality\")\n",
    "\n",
    "        self.side1 = side1\n",
    "        self.side2 = side2\n",
    "        self.side3 = side3\n",
    "\n",
    "    def kind(self):\n",
    "        if self.side1 == self.side2 and self.side2 == self.side3:\n",
    "            return \"equilateral\"\n",
    "        elif (\n",
    "            self.side1 == self.side2\n",
    "            or self.side1 == self.side3\n",
    "            or self.side2 == self.side3\n",
    "        ):\n",
    "            return \"isosceles\"\n",
    "        else:\n",
    "            return \"scalene\"\n",
    "\n",
    "\n",
    "print(Triangle(3, 3, 3).kind())"
   ]
  },
  {
   "cell_type": "code",
   "execution_count": 4,
   "metadata": {},
   "outputs": [],
   "source": [
    "def check_triangle(side1,side2,side3):\n",
    "    liste=[side1,side2,side3]\n",
    "    max_side = max(side1, side2, side3)\n",
    "    total_sum = sum(liste)\n",
    "    sum_of_min_size = total_sum - max_side\n",
    "    if side1 <= 0 or side2 <= 0 or side3 <= 0:\n",
    "         return \"illegal side\"\n",
    "    elif max_side >= sum_of_min_size:\n",
    "        print(\"Triangles Violating Triangle Inequality\")\n",
    "    elif side1 == side2 and side2 == side3:\n",
    "         return \"equilateral\"\n",
    "    elif side1 == side2 or side1 == side3 or side2 == side3:\n",
    "        return \"isosceles\"\n",
    "    else:\n",
    "            return \"scalene\""
   ]
  },
  {
   "cell_type": "code",
   "execution_count": 5,
   "metadata": {},
   "outputs": [
    {
     "data": {
      "text/plain": [
       "'scalene'"
      ]
     },
     "execution_count": 5,
     "metadata": {},
     "output_type": "execute_result"
    }
   ],
   "source": [
    "check_triangle(5,4,3)"
   ]
  },
  {
   "cell_type": "code",
   "execution_count": 7,
   "metadata": {},
   "outputs": [
    {
     "name": "stdout",
     "output_type": "stream",
     "text": [
      "equilateral\n"
     ]
    }
   ],
   "source": [
    "result=Triangle(3,3,3).kind()\n",
    "print(result)"
   ]
  },
  {
   "cell_type": "code",
   "execution_count": null,
   "metadata": {},
   "outputs": [],
   "source": []
  }
 ],
 "metadata": {
  "kernelspec": {
   "display_name": "Python 3",
   "language": "python",
   "name": "python3"
  },
  "language_info": {
   "codemirror_mode": {
    "name": "ipython",
    "version": 3
   },
   "file_extension": ".py",
   "mimetype": "text/x-python",
   "name": "python",
   "nbconvert_exporter": "python",
   "pygments_lexer": "ipython3",
   "version": "3.7.6"
  }
 },
 "nbformat": 4,
 "nbformat_minor": 4
}
